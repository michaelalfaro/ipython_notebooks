{
 "cells": [
  {
   "cell_type": "markdown",
   "metadata": {},
   "source": [
    "##The purpose of this script is to get a tree file together with all of the annotations"
   ]
  },
  {
   "cell_type": "code",
   "execution_count": null,
   "metadata": {
    "collapsed": false
   },
   "outputs": [
    {
     "name": "stdout",
     "output_type": "stream",
     "text": [
      "193, 55.20, 102.08\n",
      "\n",
      "163, 54.17, 91.55\n",
      "\n",
      "196, 49.00, 65.17\n",
      "\n",
      "133, 49.00, 101.62\n",
      "\n",
      "230, 49.00, 73.67\n",
      "\n",
      "174, 49.00, 88.47\n",
      "\n",
      "221, 29.62, 85.97\n",
      "\n",
      "211, 11.90, 50.18\n",
      "\n",
      "120, 98.00, 128.82\n",
      "\n",
      "124, 93.90, 128.04\n",
      "\n",
      "125, 63.10, 93.51\n",
      "\n",
      "190, 41.20, 55.86\n",
      "\n"
     ]
    },
    {
     "ename": "AttributeError",
     "evalue": "'_TreeScene' object has no attribute 'selector'",
     "output_type": "error",
     "traceback": [
      "\u001b[0;31m---------------------------------------------------------------------------\u001b[0m",
      "\u001b[0;31mAttributeError\u001b[0m                            Traceback (most recent call last)",
      "\u001b[0;32m/Users/michael_alfaro/anaconda/lib/python2.7/site-packages/ete2/treeview/qt4_gui.pyc\u001b[0m in \u001b[0;36mon_actionRender_selected_region_triggered\u001b[0;34m(self)\u001b[0m\n\u001b[1;32m    389\u001b[0m     \u001b[0;34m@\u001b[0m\u001b[0mQtCore\u001b[0m\u001b[0;34m.\u001b[0m\u001b[0mpyqtSignature\u001b[0m\u001b[0;34m(\u001b[0m\u001b[0;34m\"\"\u001b[0m\u001b[0;34m)\u001b[0m\u001b[0;34m\u001b[0m\u001b[0m\n\u001b[1;32m    390\u001b[0m     \u001b[0;32mdef\u001b[0m \u001b[0mon_actionRender_selected_region_triggered\u001b[0m\u001b[0;34m(\u001b[0m\u001b[0mself\u001b[0m\u001b[0;34m)\u001b[0m\u001b[0;34m:\u001b[0m\u001b[0;34m\u001b[0m\u001b[0m\n\u001b[0;32m--> 391\u001b[0;31m         \u001b[0;32mif\u001b[0m \u001b[0;32mnot\u001b[0m \u001b[0mself\u001b[0m\u001b[0;34m.\u001b[0m\u001b[0mscene\u001b[0m\u001b[0;34m.\u001b[0m\u001b[0mselector\u001b[0m\u001b[0;34m.\u001b[0m\u001b[0misVisible\u001b[0m\u001b[0;34m(\u001b[0m\u001b[0;34m)\u001b[0m\u001b[0;34m:\u001b[0m\u001b[0;34m\u001b[0m\u001b[0m\n\u001b[0m\u001b[1;32m    392\u001b[0m             return QtGui.QMessageBox.information(self, \"!\",\\\n\u001b[1;32m    393\u001b[0m                                               \"You must select a region first\")\n",
      "\u001b[0;31mAttributeError\u001b[0m: '_TreeScene' object has no attribute 'selector'"
     ]
    },
    {
     "ename": "AttributeError",
     "evalue": "'_TreeScene' object has no attribute 'selector'",
     "output_type": "error",
     "traceback": [
      "\u001b[0;31m---------------------------------------------------------------------------\u001b[0m",
      "\u001b[0;31mAttributeError\u001b[0m                            Traceback (most recent call last)",
      "\u001b[0;32m/Users/michael_alfaro/anaconda/lib/python2.7/site-packages/ete2/treeview/qt4_gui.pyc\u001b[0m in \u001b[0;36mon_actionRender_selected_region_triggered\u001b[0;34m(self)\u001b[0m\n\u001b[1;32m    389\u001b[0m     \u001b[0;34m@\u001b[0m\u001b[0mQtCore\u001b[0m\u001b[0;34m.\u001b[0m\u001b[0mpyqtSignature\u001b[0m\u001b[0;34m(\u001b[0m\u001b[0;34m\"\"\u001b[0m\u001b[0;34m)\u001b[0m\u001b[0;34m\u001b[0m\u001b[0m\n\u001b[1;32m    390\u001b[0m     \u001b[0;32mdef\u001b[0m \u001b[0mon_actionRender_selected_region_triggered\u001b[0m\u001b[0;34m(\u001b[0m\u001b[0mself\u001b[0m\u001b[0;34m)\u001b[0m\u001b[0;34m:\u001b[0m\u001b[0;34m\u001b[0m\u001b[0m\n\u001b[0;32m--> 391\u001b[0;31m         \u001b[0;32mif\u001b[0m \u001b[0;32mnot\u001b[0m \u001b[0mself\u001b[0m\u001b[0;34m.\u001b[0m\u001b[0mscene\u001b[0m\u001b[0;34m.\u001b[0m\u001b[0mselector\u001b[0m\u001b[0;34m.\u001b[0m\u001b[0misVisible\u001b[0m\u001b[0;34m(\u001b[0m\u001b[0;34m)\u001b[0m\u001b[0;34m:\u001b[0m\u001b[0;34m\u001b[0m\u001b[0m\n\u001b[0m\u001b[1;32m    392\u001b[0m             return QtGui.QMessageBox.information(self, \"!\",\\\n\u001b[1;32m    393\u001b[0m                                               \"You must select a region first\")\n",
      "\u001b[0;31mAttributeError\u001b[0m: '_TreeScene' object has no attribute 'selector'"
     ]
    }
   ],
   "source": [
    "#making the acanthomorph tree look good\n",
    "import os, uuid\n",
    "from ast import literal_eval\n",
    "from ete2 import Tree, TreeStyle, AttrFace, NodeStyle, faces\n",
    "import pandas as pd\n",
    "\n",
    "def getAnnotations(tree, feature = \"support\"):\n",
    "    #traverse tree and populate dictionary with id and feature as key, value\n",
    "    featuredict = {}\n",
    "    for node in tree.traverse():\n",
    "        key = node.get_topology_id()\n",
    "        if feature == \"nodenumber\":\n",
    "            value = node.nodenumber\n",
    "        else:\n",
    "            value = node.support\n",
    "        featuredict[key] = value\n",
    "        \n",
    "    return featuredict\n",
    "\n",
    "def getCladeNodes(tree, subcladenode, show = False):\n",
    "    #take tree and subclade node\n",
    "    #return list of paml labeled subclades within parent subclade\n",
    "    subtree = pamlLabelTree.search_nodes(support = subcladenode)[0]\n",
    "    if show == True:\n",
    "        subtree.show()\n",
    "    subtreenodes = []\n",
    "    for node in subtree.traverse():\n",
    "        if node.pamllabel:\n",
    "            subtreenodes.append(int(node.pamllabel))\n",
    "    return subtreenodes    \n",
    "    \n",
    "workingdir = (\"/Users/michael_alfaro/Dropbox/malfaro-acanthomorph/dating/Friedman_12_calibrations/PAML_run_files/4_partitions/12_cali_4_parts_paml-output/combined-output/combined-annotated-tree/\")\n",
    "os.chdir(workingdir)\n",
    "\n",
    "exaPartTree = Tree(\"/Users/michael_alfaro/Dropbox/malfaro-acanthomorph/trees/75p/ExaBayes_ConsensusExtendedMajorityRuleNewick.Acanthomorph-75p-STDPART-1.5M-Burn25-FINAL.tre\")\n",
    "exaNoPartTree = Tree(\"/Users/michael_alfaro/Dropbox/malfaro-acanthomorph/trees/75p/ExaBayes_ConsensusExtendedMajorityRuleNewick.Acanthomorph-75p-UNPART-1.5M-Burn25-FINAL.tre\")\n",
    "raxPartTree = Tree(\"/Users/michael_alfaro/Dropbox/malfaro-acanthomorph/trees/75p/RAxML.acanthomorph-no-chauliodius-75p-STDPART.tre\")\n",
    "raxNoPartTree = Tree(\"/Users/michael_alfaro/Dropbox/malfaro-acanthomorph/trees/75p/RAxML.acanthomorph-no-chauliodius-75p-UNPART.tre\")\n",
    "pamlLabelTree = Tree(\"/Users/michael_alfaro/Dropbox/malfaro-acanthomorph/dating/Friedman_12_calibrations/PAML_run_files/4_partitions/12_cali_4_parts_paml-output/4-part-paml-labels.tree\")\n",
    "\n",
    "\n",
    "\n",
    "#root the raxml tree \n",
    "tt = raxPartTree\n",
    "ancestor = \"alepisaurus_ferox\"\n",
    "tt.set_outgroup(ancestor)\n",
    "tt.get_tree_root().dist = 0.001\n",
    "\n",
    "#get the exabayes_numbered tree. this is how I numbered the exabayes tree for figure 1\n",
    "tt = exaPartTree\n",
    "ancestor = \"alepisaurus_ferox\"\n",
    "tt.set_outgroup(ancestor)\n",
    "tt.get_tree_root().dist = 0.001\n",
    "counter = 0\n",
    "for node in tt.traverse(\"postorder\"):\n",
    "    node.add_features( nodenumber = str(counter) )# for calibrations\n",
    "    counter += 1\n",
    "    node.add_face( faces.TextFace(node.nodenumber, ftype=\"Arial\", fsize=10, fstyle = \"italic\", fgcolor = \"red\"), column=0)\n",
    "\n",
    "\n",
    "    \n",
    "pamldict = {} #store numbers and paml names\n",
    "for node in pamlLabelTree.traverse():\n",
    "    node.add_features(bootstrap = None, posterior = None, mikelabel = None, pamllabel = None)\n",
    "    #print node.get_topology_id()\n",
    "    if node.is_leaf():\n",
    "        num, genus, epi = node.name.split(\"_\")\n",
    "        species = \"_\".join([genus, epi])\n",
    "        node.add_features(standard_name = species)\n",
    "        pamldict[species] = node.name\n",
    "        node.add_face( faces.TextFace(node.standard_name, ftype=\"Arial\", fsize=14, fstyle = \"italic\"), column=0)\n",
    "        node.name = species # make tip names match other tree files\n",
    "        \n",
    "        \n",
    "posteriors = getAnnotations(exaPartTree)\n",
    "bootstraps = getAnnotations(raxPartTree)\n",
    "pamllabels = getAnnotations(pamlLabelTree)\n",
    "mikelabels = getAnnotations(exaPartTree, \"nodenumber\")\n",
    "\n",
    "for node in pamlLabelTree.traverse():  \n",
    "    if not node.is_leaf():\n",
    "        nid = node.get_topology_id()\n",
    "        node.pamllabel = pamllabels[nid]\n",
    "        if nid in posteriors.keys():\n",
    "            node.posterior = posteriors[nid]\n",
    "            node.add_face( faces.TextFace(node.posterior, ftype=\"Arial\", fsize=10, fstyle = \"italic\", fgcolor = \"red\"), column=0)\n",
    "            #faces.add_face_to_node(AttrFace(\"name\"), node, column=0)\n",
    "        if nid in bootstraps.keys():\n",
    "            node.bootstrap = bootstraps[nid]\n",
    "            node.add_face( faces.TextFace(node.bootstrap, ftype=\"Arial\", fsize=10, fstyle = \"italic\", fgcolor = \"blue\"), column=0)           \n",
    "        if nid in mikelabels.keys():\n",
    "            node.mikelabel = mikelabels[nid]\n",
    "            node.add_face( faces.TextFace(node.mikelabel, ftype=\"Arial\", fsize=8, fgcolor = \"green\"), position = \"branch-top\",column=1)\n",
    "            \n",
    "    \n",
    "        \n",
    "###get duaghter node number for all subcaldes for figure 2\n",
    "acanthomorph_subclades = {\"paracanthopterygians\" : 120, \"percomorphs\": 135,\n",
    "                          \"gobiomorphs\": 139, \"syngnathiforms\": 155,\n",
    "                          \"pelagiaria\": 160, \"eupercaria\":200,\n",
    "                          \"ovalentaria\": 173, \"caringimorphs\": 183}\n",
    "\n",
    "acanth_daughters = {} # hold subclade name and ALL subclade numbers within it\n",
    "for clade in acanthomorph_subclades:\n",
    "    daughters = getCladeNodes(pamlLabelTree, acanthomorph_subclades[clade])\n",
    "    acanth_daughters[clade] = daughters\n",
    "#writing to the working dir opened at start of script\n",
    "acanth_daughters\n",
    "ff = open(\"subclade_numbers.csv\", \"w\")\n",
    "for key in acanth_daughters.keys():\n",
    "    for value in acanth_daughters[key]:\n",
    "        #print \"{}, {}\".format(value, key)\n",
    "        ff.write(\"{}, {}\\n\".format(value, key))\n",
    "ff.close()\n",
    "    \n",
    "### put the fossil constraints on the tree, focus only on scheme 3 for labeling figure 1\n",
    "infile = \"/Users/michael_alfaro/Dropbox/malfaro-acanthomorph/dating/Friedman_12_calibrations/12_cali_plecto_bounds.csv\"\n",
    "writedir = \"/Users/michael_alfaro/Dropbox/malfaro-acanthomorph/dating/Friedman_12_calibrations/plecto/\"\n",
    "\n",
    "\n",
    "scheme3 = {}\n",
    "\n",
    "dd = pd.read_csv(infile, index_col=0, na_values=\"n/a\") #the nodes are the index in this dataframe\n",
    "pd.set_option('float_format', '{:20,.2f}'.format)\n",
    "\n",
    "#populate the scheme dictionaries\n",
    "for cal_node in dd.index:\n",
    "    min_age = dd.loc[cal_node][1] \n",
    "    max_age_3 = dd.loc[cal_node][4]\n",
    "    scheme3[cal_node] = [min_age, max_age_3]\n",
    "\n",
    "# from scheme 3 map mikelabels to pamllabels\n",
    "mike_cali_nodes = scheme3.keys()\n",
    "paml_cali_nodes = {} # search tree with mike_cali_nodes and populate this dict\n",
    "\n",
    "for nn, bounds in scheme3.items():\n",
    "    paml_node_number = pamlLabelTree.search_nodes(mikelabel = str(nn))[0].pamllabel\n",
    "    paml_cali_nodes[paml_node_number] = bounds\n",
    "    \n",
    "ff = open(\"fig_1_constrained_nodes.csv\", \"w\")\n",
    "for key, value in paml_cali_nodes.items():\n",
    "    lower = \"{:.2f}\".format(value[0])\n",
    "    upper = \"{:.2f}\".format(value[1])\n",
    "    print \"{}, {}, {}\\n\".format(int(key), lower, upper)\n",
    "    ff.write(\"{}, {}, {}\\n\".format(int(key), lower, upper))\n",
    "ff.close()\n",
    "\n",
    "##can stick these bounds on the pamllabelstree too\n",
    "for node in pamlLabelTree.traverse():\n",
    "    if not node.is_leaf():\n",
    "        node.add_features(lower = None, upper = None)\n",
    "        if node.pamllabel in paml_cali_nodes.keys():\n",
    "            lower, upper = paml_cali_nodes[node.pamllabel][0], paml_cali_nodes[node.pamllabel][1]\n",
    "            node.lower = \"{:.2f} - \".format(lower)\n",
    "            node.upper = \"{:.2f}\".format(upper)\n",
    "            node.add_face( faces.TextFace(node.lower, ftype=\"Arial\", fsize=8, fgcolor = \"purple\"), position = \"branch-right\",column=2)\n",
    "            node.add_face( faces.TextFace(node.upper, ftype=\"Arial\", fsize=8, fgcolor = \"black\"), position = \"branch-right\",column=3)\n",
    "\n",
    "        \n",
    "    \n",
    "\n",
    "# in acanth_daughters.keys():\n",
    "#     for value in acanth_daughters[key]:\n",
    "#         #print \"{}, {}\".format(value, key)\n",
    "#         ff.write(\"{}, {}\\n\".format(value, key))\n",
    "# ff.close()\n",
    "\n",
    "\n",
    "from ete2 import Tree, TreeStyle \n",
    "ts = TreeStyle() \n",
    "\n",
    "ts.show_leaf_name = False \n",
    "ts.show_branch_length = False \n",
    "ts.show_branch_support = True \n",
    "pamlLabelTree.show(tree_style=ts)\n",
    "# #pamlLabelTree.get_leaf_names()\n",
    "# # fourTrees = {\n",
    "# # \"exa_75_part\" : exaPartTree, \n",
    "# # \"exa_75_no_part\" : exaNoPartTree, \n",
    "# # \"rax_75_part\" : raxPartTree,  \n",
    "# # \"rax_75_no_part\" : raxNoPartTree \n",
    "# # }"
   ]
  },
  {
   "cell_type": "code",
   "execution_count": 78,
   "metadata": {
    "collapsed": false,
    "scrolled": false
   },
   "outputs": [],
   "source": [
    "# type(mike_cali_nodes[0])\n",
    "# temp = []\n",
    "# for node in pamlLabelTree.traverse():\n",
    "#     if not node.is_leaf():\n",
    "#         print type(node.mikelabel)\n",
    "# #         temp.append(node.mikelabel)\n",
    "# # for nn in mike_cali_nodes:\n",
    "# #     print str(nn) in temp\n",
    "# #     print type(nn)\n",
    "# #     print type(temp[0])"
   ]
  },
  {
   "cell_type": "raw",
   "metadata": {
    "collapsed": false
   },
   "source": [
    "print len(set(posteriors.keys()) - set(bootstrap.keys()))\n",
    "print len(set(bootstrap.keys()) - set(posteriors.keys()))\n",
    "print len(set(pamllabels.keys()) - set(posteriors.keys()))\n",
    "\n",
    "\n",
    "print exaPartTree.get_leaf_names()\n",
    "print pamlLabelTree.get_leaf_names()\n",
    "print len(set(pamlLabelTree.get_leaf_names()) - set(exaPartTree.get_leaf_names()))\n",
    "print len(set(exaPartTree.get_leaf_names()) - set(pamlLabelTree.get_leaf_names()) )"
   ]
  },
  {
   "cell_type": "code",
   "execution_count": 91,
   "metadata": {
    "collapsed": false
   },
   "outputs": [
    {
     "data": {
      "text/plain": [
       "'dist'"
      ]
     },
     "execution_count": 91,
     "metadata": {},
     "output_type": "execute_result"
    }
   ],
   "source": [
    "tt.features"
   ]
  },
  {
   "cell_type": "code",
   "execution_count": 84,
   "metadata": {
    "collapsed": false
   },
   "outputs": [],
   "source": [
    "ts = TreeStyle() \n",
    "ts.show_leaf_name = True \n",
    "ts.show_branch_length = False \n",
    "ts.show_branch_support = True \n",
    "raxPartTree.ladderize()\n",
    "raxNoPartTree.show(tree_style=ts)"
   ]
  },
  {
   "cell_type": "code",
   "execution_count": 35,
   "metadata": {
    "collapsed": false
   },
   "outputs": [
    {
     "ename": "NameError",
     "evalue": "name 'fourTrees' is not defined",
     "output_type": "error",
     "traceback": [
      "\u001b[0;31m---------------------------------------------------------------------------\u001b[0m",
      "\u001b[0;31mNameError\u001b[0m                                 Traceback (most recent call last)",
      "\u001b[0;32m<ipython-input-35-a4c50971ae39>\u001b[0m in \u001b[0;36m<module>\u001b[0;34m()\u001b[0m\n\u001b[1;32m      1\u001b[0m \u001b[0;31m##need to root the exabayes trees, set root branch to 0, assign uuid\u001b[0m\u001b[0;34m\u001b[0m\u001b[0;34m\u001b[0m\u001b[0m\n\u001b[0;32m----> 2\u001b[0;31m \u001b[0;32mfor\u001b[0m \u001b[0mname\u001b[0m \u001b[0;32min\u001b[0m \u001b[0mfourTrees\u001b[0m\u001b[0;34m.\u001b[0m\u001b[0mkeys\u001b[0m\u001b[0;34m(\u001b[0m\u001b[0;34m)\u001b[0m\u001b[0;34m:\u001b[0m\u001b[0;34m\u001b[0m\u001b[0m\n\u001b[0m\u001b[1;32m      3\u001b[0m     \u001b[0mtt\u001b[0m \u001b[0;34m=\u001b[0m \u001b[0mfourTrees\u001b[0m\u001b[0;34m[\u001b[0m\u001b[0mname\u001b[0m\u001b[0;34m]\u001b[0m\u001b[0;34m\u001b[0m\u001b[0m\n\u001b[1;32m      4\u001b[0m     \u001b[0mancestor\u001b[0m \u001b[0;34m=\u001b[0m \u001b[0;34m\"alepisaurus_ferox\"\u001b[0m\u001b[0;34m\u001b[0m\u001b[0m\n\u001b[1;32m      5\u001b[0m     \u001b[0mtt\u001b[0m\u001b[0;34m.\u001b[0m\u001b[0mset_outgroup\u001b[0m\u001b[0;34m(\u001b[0m\u001b[0mancestor\u001b[0m\u001b[0;34m)\u001b[0m\u001b[0;34m\u001b[0m\u001b[0m\n",
      "\u001b[0;31mNameError\u001b[0m: name 'fourTrees' is not defined"
     ]
    }
   ],
   "source": [
    "##need to root the exabayes trees, set root branch to 0, assign uuid\n",
    "for name in fourTrees.keys():\n",
    "    tt = fourTrees[name]\n",
    "    ancestor = \"alepisaurus_ferox\"\n",
    "    tt.set_outgroup(ancestor)\n",
    "    tt.get_tree_root().dist = 0.001\n",
    "    counter = 0\n",
    "    for node in tt.traverse(\"postorder\"):\n",
    "        node.add_features( nodeid = str(uuid.uuid1() ) )\n",
    "        node.add_features( nodenumber = str(counter) )# for calibrations\n",
    "        node.add_features( order = None)\n",
    "        counter += 1\n",
    "#         if node.is_leaf():\n",
    "#             node.name = node.name.capitalize().replace(\"_\", \" \")\n",
    "#             #print node.name\n",
    "#         if node.name == \"Takifugu occelatus\":\n",
    "#             node.name = \"Takifugu ocellatus\"\n",
    "#         if node.name == \"Ostorhinchus nigrofasciatus\":\n",
    "#             node.name = \"Ostorhinchus nigrofasciatus\"\n",
    "#         if node.name == \"Sargocentron coruscum2\":\n",
    "#             node.name = \"Sargocentron coruscum\"\n",
    "#             print \"changed {}\".format(node.name)\n",
    "\n",
    "\n",
    "outfile = \"4_27_2015_acanthomorh_renamed.tre\"\n",
    "\n",
    "tt = fourTrees[\"exa_75_part\"]\n",
    "ml = fourTrees[\"rax_75_part\"] #just grabbing the ml tree for the bs values\n",
    "\n",
    "# os.chdir(home)\n",
    "# tt.write( features = [\"nodeid\", \"nodenumber\"], outfile = outfile)\n",
    "\n",
    "\n",
    "rr = open(\"/Users/michael_alfaro/Dropbox/malfaro-acanthomorph/manuscript/pnas_tex/ETE_work/converted_pngs/ranks.txt\").read()\n",
    "fam_key = literal_eval(rr)\n",
    "ranks = fam_key\n",
    "\n",
    "attachSupport(tt, ml)"
   ]
  },
  {
   "cell_type": "code",
   "execution_count": 80,
   "metadata": {
    "collapsed": false
   },
   "outputs": [
    {
     "data": {
      "text/plain": [
       "'dist'"
      ]
     },
     "execution_count": 80,
     "metadata": {},
     "output_type": "execute_result"
    }
   ],
   "source": [
    "tt.features"
   ]
  },
  {
   "cell_type": "code",
   "execution_count": null,
   "metadata": {
    "collapsed": true
   },
   "outputs": [],
   "source": []
  }
 ],
 "metadata": {
  "kernelspec": {
   "display_name": "Python 2",
   "language": "python",
   "name": "python2"
  },
  "language_info": {
   "codemirror_mode": {
    "name": "ipython",
    "version": 2
   },
   "file_extension": ".py",
   "mimetype": "text/x-python",
   "name": "python",
   "nbconvert_exporter": "python",
   "pygments_lexer": "ipython2",
   "version": "2.7.10"
  }
 },
 "nbformat": 4,
 "nbformat_minor": 0
}
