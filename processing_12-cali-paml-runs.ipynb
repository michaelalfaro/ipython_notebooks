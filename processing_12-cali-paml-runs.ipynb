{
 "cells": [
  {
   "cell_type": "markdown",
   "metadata": {},
   "source": [
    "3 partition runs have finished and 4 partitions are running on Brant's cluster. Need to walk through the output directory and move all of the mcmc files to a common folder and append run name to process with log combiner"
   ]
  },
  {
   "cell_type": "code",
   "execution_count": 3,
   "metadata": {
    "collapsed": false
   },
   "outputs": [
    {
     "name": "stdout",
     "output_type": "stream",
     "text": [
      "The autoreload extension is already loaded. To reload it, use:\n",
      "  %reload_ext autoreload\n"
     ]
    }
   ],
   "source": [
    "\n",
    "\n",
    "import sys,os,os.path\n",
    "sys.path.append(os.path.expanduser('~/Dropbox/tools'))\n",
    "\n",
    "import glob\n",
    "import shutil\n",
    "import os\n",
    "import dendropy\n",
    "import StringIO\n",
    "import pandas as pd\n",
    "\n",
    "from phy_utils import updatePamlAges\n",
    "\n",
    "%load_ext autoreload\n",
    "%autoreload 2\n",
    "\n",
    "#parentdir = \"/Users/michael_alfaro/Dropbox/malfaro-acanthomorph/dating/Friedman_12_calibrations/PAML_run_files/3_partitions/12_cali_3_parts_paml-output/\"\n",
    "#resultsdir = \"/Users/michael_alfaro/Dropbox/malfaro-acanthomorph/dating/Friedman_12_calibrations/PAML_run_files/3_partitions/12_cali_3_parts_paml-output/combined-output/\"\n",
    "\n",
    "##changing to process 4-partition file now\n",
    "parentdir = \"/Users/michael_alfaro/Dropbox/malfaro-acanthomorph/dating/Friedman_12_calibrations/PAML_run_files/4_partitions/12_cali_4_parts_paml-output/\"\n",
    "resultsdir = \"/Users/michael_alfaro/Dropbox/malfaro-acanthomorph/dating/Friedman_12_calibrations/PAML_run_files/4_partitions/12_cali_4_parts_paml-output/combined-output/\"\n",
    "\n",
    "\n",
    "#logname = \"mcmc.log\"\n",
    "logname = \"mcmc.txt\"\n",
    "counter = 0\n",
    "logfiles = []"
   ]
  },
  {
   "cell_type": "code",
   "execution_count": 4,
   "metadata": {
    "collapsed": false
   },
   "outputs": [
    {
     "name": "stdout",
     "output_type": "stream",
     "text": [
      "/Users/michael_alfaro/Dropbox/malfaro-acanthomorph/dating/Friedman_12_calibrations/PAML_run_files/4_partitions/12_cali_4_parts_paml-output/scheme-0-HE-post-hessian-run1 \n",
      "mcmc.txt run-0-mcmc.txt \n",
      "\n",
      "/Users/michael_alfaro/Dropbox/malfaro-acanthomorph/dating/Friedman_12_calibrations/PAML_run_files/4_partitions/12_cali_4_parts_paml-output/scheme-0-HE-post-hessian-run10 \n",
      "mcmc.txt run-1-mcmc.txt \n",
      "\n",
      "/Users/michael_alfaro/Dropbox/malfaro-acanthomorph/dating/Friedman_12_calibrations/PAML_run_files/4_partitions/12_cali_4_parts_paml-output/scheme-0-HE-post-hessian-run2 \n",
      "mcmc.txt run-2-mcmc.txt \n",
      "\n",
      "/Users/michael_alfaro/Dropbox/malfaro-acanthomorph/dating/Friedman_12_calibrations/PAML_run_files/4_partitions/12_cali_4_parts_paml-output/scheme-0-HE-post-hessian-run3 \n",
      "mcmc.txt run-3-mcmc.txt \n",
      "\n",
      "/Users/michael_alfaro/Dropbox/malfaro-acanthomorph/dating/Friedman_12_calibrations/PAML_run_files/4_partitions/12_cali_4_parts_paml-output/scheme-0-HE-post-hessian-run4 \n",
      "mcmc.txt run-4-mcmc.txt \n",
      "\n",
      "/Users/michael_alfaro/Dropbox/malfaro-acanthomorph/dating/Friedman_12_calibrations/PAML_run_files/4_partitions/12_cali_4_parts_paml-output/scheme-0-HE-post-hessian-run5 \n",
      "mcmc.txt run-5-mcmc.txt \n",
      "\n",
      "/Users/michael_alfaro/Dropbox/malfaro-acanthomorph/dating/Friedman_12_calibrations/PAML_run_files/4_partitions/12_cali_4_parts_paml-output/scheme-0-HE-post-hessian-run6 \n",
      "mcmc.txt run-6-mcmc.txt \n",
      "\n",
      "/Users/michael_alfaro/Dropbox/malfaro-acanthomorph/dating/Friedman_12_calibrations/PAML_run_files/4_partitions/12_cali_4_parts_paml-output/scheme-0-HE-post-hessian-run7 \n",
      "mcmc.txt run-7-mcmc.txt \n",
      "\n",
      "/Users/michael_alfaro/Dropbox/malfaro-acanthomorph/dating/Friedman_12_calibrations/PAML_run_files/4_partitions/12_cali_4_parts_paml-output/scheme-0-HE-post-hessian-run8 \n",
      "mcmc.txt run-8-mcmc.txt \n",
      "\n",
      "/Users/michael_alfaro/Dropbox/malfaro-acanthomorph/dating/Friedman_12_calibrations/PAML_run_files/4_partitions/12_cali_4_parts_paml-output/scheme-0-HE-post-hessian-run9 \n",
      "mcmc.txt run-9-mcmc.txt \n",
      "\n"
     ]
    }
   ],
   "source": [
    "\n",
    "\n",
    "for r,d,f in os.walk(parentdir):\n",
    "    if logname in f:\n",
    "        print r, \"\\n\",\n",
    "        outname = \"run-{}-\".format(counter) + logname\n",
    "        print logname, outname , \"\\n\"\n",
    "        shutil.copy2(os.path.join(r, logname), resultsdir + outname)\n",
    "        counter += 1\n",
    "        logfiles.append(outname) #list of all outfiles, will pass to log combiner\n",
    "        #break\n",
    "    #print r\n",
    "    #print glob.glob(\"*.log\")\n",
    "#%qtconsole"
   ]
  },
  {
   "cell_type": "markdown",
   "metadata": {},
   "source": [
    "##call logcombiner\n",
    "java -classpath beast.jar dr.app.tools.LogCombiner\n",
    "\n",
    "logcombiner [-trees] [-decimal] [-burnin <i>] [-resample <i>] [-scale <r>] [-renumber] [-help] <input-file-name1> [<input-file-name2> ...] <output-file-name>\n",
    "\n",
    "logcombiner -burnin 10000 test1.log test2.log combined.log"
   ]
  },
  {
   "cell_type": "code",
   "execution_count": 7,
   "metadata": {
    "collapsed": false
   },
   "outputs": [
    {
     "data": {
      "text/plain": [
       "0"
      ]
     },
     "execution_count": 7,
     "metadata": {},
     "output_type": "execute_result"
    }
   ],
   "source": [
    "#%qtconsole\n",
    "#remove logfile1 and 2--Tracer inspection shows a lack of convergence for n167-170\n",
    "#logfiles.remove('run-1-mcmc.log')\n",
    "#logfiles.remove('run-2-mcmc.log')\n",
    "logfiles\n",
    "os.chdir(resultsdir)\n",
    "\n",
    "pdir = {}\n",
    "\n",
    "pdir[\"beastpath\"] = \"/Applications/beAST/lib/beast.jar\"\n",
    "pdir[\"outfilename\"] = \"12-cal-4-part-thinned-10-runs-combined.log\"\n",
    "pdir[\"resample\"] = 4\n",
    "pdir[\"burnin\"] = 0\n",
    "pdir[\"logfiles\"] =  ' '.join(str(ll) for ll in logfiles) \n",
    "\n",
    "\n",
    "\n",
    "runLC = \"java -classpath {beastpath} dr.app.tools.LogCombiner -burnin {burnin} -resample {resample} -renumber {logfiles} {outfilename}\".format(**pdir)\n",
    "\n",
    "os.system(runLC)"
   ]
  },
  {
   "cell_type": "code",
   "execution_count": 8,
   "metadata": {
    "collapsed": false
   },
   "outputs": [
    {
     "name": "stdout",
     "output_type": "stream",
     "text": [
      "119\n",
      "120\n",
      "121\n",
      "122\n",
      "123\n",
      "124\n",
      "125\n",
      "126\n",
      "127\n",
      "128\n",
      "129\n",
      "130\n",
      "131\n",
      "132\n",
      "133\n",
      "134\n",
      "135\n",
      "136\n",
      "137\n",
      "138\n",
      "139\n",
      "140\n",
      "141\n",
      "142\n",
      "143\n",
      "144\n",
      "145\n",
      "146\n",
      "147\n",
      "148\n",
      "149\n",
      "150\n",
      "151\n",
      "152\n",
      "153\n",
      "154\n",
      "155\n",
      "156\n",
      "157\n",
      "158\n",
      "159\n",
      "160\n",
      "161\n",
      "162\n",
      "163\n",
      "164\n",
      "165\n",
      "166\n",
      "167\n",
      "168\n",
      "169\n",
      "170\n",
      "171\n",
      "172\n",
      "173\n",
      "174\n",
      "175\n",
      "176\n",
      "177\n",
      "178\n",
      "179\n",
      "180\n",
      "181\n",
      "182\n",
      "183\n",
      "184\n",
      "185\n",
      "186\n",
      "187\n",
      "188\n",
      "189\n",
      "190\n",
      "191\n",
      "192\n",
      "193\n",
      "194\n",
      "195\n",
      "196\n",
      "197\n",
      "198\n",
      "199\n",
      "200\n",
      "201\n",
      "202\n",
      "203\n",
      "204\n",
      "205\n",
      "206\n",
      "207\n",
      "208\n",
      "209\n",
      "210\n",
      "211\n",
      "212\n",
      "213\n",
      "214\n",
      "215\n",
      "216\n",
      "217\n",
      "218\n",
      "219\n",
      "220\n",
      "221\n",
      "222\n",
      "223\n",
      "224\n",
      "225\n",
      "226\n",
      "227\n",
      "228\n",
      "229\n",
      "230\n",
      "231\n",
      "232\n",
      "233\n",
      "234\n",
      "235\n",
      "writing tree to file /Users/michael_alfaro/Dropbox/malfaro-acanthomorph/dating/Friedman_12_calibrations/PAML_run_files/4_partitions/12_cali_4_parts_paml-output/combined-output/4-part-12-cali-10-run-consensus-ages.tre\n"
     ]
    }
   ],
   "source": [
    "#get paths to tracer data file, paml label tree as a string\n",
    "\n",
    "\n",
    "#tree_string = open(\"/Users/michael_alfaro/Dropbox/malfaro-acanthomorph/dating/Friedman_12_calibrations/PAML_run_files/3_partitions/12_cali_3_parts_paml-output/3-part-paml-labels.tree\").read()\n",
    "#tracer_path = \"/Users/michael_alfaro/Dropbox/malfaro-acanthomorph/dating/Friedman_12_calibrations/PAML_run_files/3_partitions/12_cali_3_parts_paml-output/combined-8-run-3-part.csv\"\n",
    "#outfile = \"3-part-12-cali-8-run-consensus-ages.tre\"\n",
    "\n",
    "tree_string = open(\"/Users/michael_alfaro/Dropbox/malfaro-acanthomorph/dating/Friedman_12_calibrations/PAML_run_files/4_partitions/12_cali_4_parts_paml-output/4-part-paml-labels.tree\").read()\n",
    "tracer_path = \"/Users/michael_alfaro/Dropbox/malfaro-acanthomorph/dating/Friedman_12_calibrations/PAML_run_files/4_partitions/12_cali_4_parts_paml-output/combined-10-run-4-part.csv\"\n",
    "outfile = \"4-part-12-cali-10-run-consensus-ages.tre\"\n",
    "os.chdir(resultsdir)\n",
    "\n",
    "%qtconsole\n",
    "updatePamlAges(tracer_path, tree_string, outfile)\n"
   ]
  },
  {
   "cell_type": "code",
   "execution_count": 33,
   "metadata": {
    "collapsed": false
   },
   "outputs": [],
   "source": [
    "tree = dendropy.Tree.get(data=tree_string, schema=\"newick\")\n"
   ]
  },
  {
   "cell_type": "code",
   "execution_count": 34,
   "metadata": {
    "collapsed": false
   },
   "outputs": [
    {
     "data": {
      "text/plain": [
       "<Tree object at 0x10a72dfd0>"
      ]
     },
     "execution_count": 34,
     "metadata": {},
     "output_type": "execute_result"
    }
   ],
   "source": [
    "tree"
   ]
  },
  {
   "cell_type": "code",
   "execution_count": 40,
   "metadata": {
    "collapsed": true
   },
   "outputs": [],
   "source": [
    "tracerages = tracer_path\n",
    "\n"
   ]
  },
  {
   "cell_type": "code",
   "execution_count": 54,
   "metadata": {
    "collapsed": false
   },
   "outputs": [],
   "source": [
    "%qtconsole\n",
    "with open(tracerages, \"r\") as ff:\n",
    "    tstring = ff.read()\n",
    "\n",
    "df = pd.read_table(tracerages)\n",
    "#df = pd.DataFrame.from_csv(data)\n",
    "df = df.transpose()\n",
    "kk = list(df.index) # list of each node in the tracer file--match this against the PAML labels in the tree\n",
    "\n",
    "nodeinfo = {}"
   ]
  },
  {
   "cell_type": "code",
   "execution_count": 38,
   "metadata": {
    "collapsed": false
   },
   "outputs": [
    {
     "data": {
      "text/plain": [
       "<closed file '/Users/michael_alfaro/Dropbox/malfaro-acanthomorph/dating/Friedman_12_calibrations/PAML_run_files/3_partitions/12_cali_3_parts_paml-output/combined-8-run-3-part.csv', mode 'r' at 0x10a654930>"
      ]
     },
     "execution_count": 38,
     "metadata": {},
     "output_type": "execute_result"
    }
   ],
   "source": [
    "ff\n"
   ]
  },
  {
   "cell_type": "code",
   "execution_count": 39,
   "metadata": {
    "collapsed": false
   },
   "outputs": [
    {
     "data": {
      "text/plain": [
       "'Summary Statistic,t_n119,t_n120,t_n121,t_n122,t_n123,t_n124,t_n125,t_n126,t_n127,t_n128,t_n129,t_n130,t_n131,t_n132,t_n133,t_n134,t_n135,t_n136,t_n137,t_n138,t_n139,t_n140,t_n141,t_n142,t_n143,t_n144,t_n145,t_n146,t_n147,t_n148,t_n149,t_n150,t_n151,t_n152,t_n153,t_n154,t_n155,t_n156,t_n157,t_n158,t_n159,t_n160,t_n161,t_n162,t_n163,t_n164,t_n165,t_n166,t_n167,t_n168,t_n169,t_n170,t_n171,t_n172,t_n173,t_n174,t_n175,t_n176,t_n177,t_n178,t_n179,t_n180,t_n181,t_n182,t_n183,t_n184,t_n185,t_n186,t_n187,t_n188,t_n189,t_n190,t_n191,t_n192,t_n193,t_n194,t_n195,t_n196,t_n197,t_n198,t_n199,t_n200,t_n201,t_n202,t_n203,t_n204,t_n205,t_n206,t_n207,t_n208,t_n209,t_n210,t_n211,t_n212,t_n213,t_n214,t_n215,t_n216,t_n217,t_n218,t_n219,t_n220,t_n221,t_n222,t_n223,t_n224,t_n225,t_n226,t_n227,t_n228,t_n229,t_n230,t_n231,t_n232,t_n233,t_n234,t_n235\\nmean,14.1119,12.7865,6.0165,1.999,11.851,10.9777,7.0242,9.8357,2.3726,7.3634,4.3388,13.6217,12.6829,12.3395,6.4595,0.4643,11.5264,6.6817,10.6876,9.9463,8.973,8.7377,1.1652,0.351,0.6103,7.3049,6.5239,3.2281,5.892,4.7645,3.2345,2.6265,3.3588,2.5006,9.6333,8.6262,7.3979,6.511,6.7483,6.0497,1.8921,6.8878,4.5391,6.7721,5.861,6.7364,6.6758,1.1805,5.975,6.692,6.6458,0.4636,8.9048,8.8014,7.0117,6.7873,5.633,6.8939,6.7666,0.2219,6.7736,5.6318,4.0002,2.5229,7.0553,6.8212,6.9068,6.7994,5.9972,5.3947,3.788,4.3882,6.7989,6.7292,6.239,5.4594,2.0763,5.2818,1.4867,1.1902,0.9224,7.7386,6.4719,6.2319,5.6148,7.3194,7.2478,7.1302,6.8561,4.4575,1.542,0.2587,2.8684,0.2872,6.8992,6.8246,1.407,6.4054,0.3699,0.2986,6.8366,6.7294,6.55,0.878,3.4314,0.596,0.4773,0.4162,6.6036,6.261,5.4664,5.0311,5.2994,3.145,2.1742,0.9049,0.1095\\nstderr of mean,0.0449,0.024,0.0153,6.3814E-3,0.025,0.0104,5.8376E-3,0.0272,0.013,0.0251,0.021,0.0474,0.0495,0.0493,0.0102,1.5104E-3,0.0477,0.0322,0.0425,0.0408,0.0385,0.0381,2.3657E-3,1.1286E-3,1.5904E-3,0.034,0.0311,0.0208,0.0302,0.0271,0.0215,0.0196,0.0222,0.0184,0.0396,0.0366,0.0327,0.0327,0.0302,0.0267,6.549E-3,0.0102,0.0137,0.0106,5.4608E-3,0.0111,0.0112,3.6992E-3,0.013,0.0112,0.0113,1.5084E-3,0.0105,0.0105,8.0454E-3,7.8245E-3,8.7437E-3,7.8942E-3,7.7087E-3,6.9776E-4,7.7953E-3,7.5123E-3,8.2266E-3,7.213E-3,7.7982E-3,7.8325E-3,7.6501E-3,7.5914E-3,6.2555E-3,5.4423E-3,0.0138,2.3648E-3,7.5756E-3,7.5359E-3,6.5019E-3,3.6739E-3,5.9799E-3,3.4438E-3,3.2297E-3,2.7916E-3,2.536E-3,8.9534E-3,0.0121,0.0124,0.0123,9.6704E-3,9.5368E-3,9.5646E-3,8.4326E-3,8.5266E-3,3.7333E-3,8.0755E-4,8.3666E-3,8.8097E-4,7.4966E-3,7.5499E-3,4.3396E-3,7.673E-3,9.1123E-4,8.1503E-4,7.3723E-3,7.2414E-3,5.7828E-3,2.7044E-3,0.0112,1.2801E-3,1.1407E-3,1.1243E-3,6.9821E-3,6.1755E-3,3.0327E-3,1.1404E-3,5.4713E-3,6.408E-3,4.8382E-3,2.2361E-3,4.1059E-4\\nstdev,1.2639,0.9674,1.0112,0.6328,1.0301,0.6222,0.4044,1.1636,0.7713,1.0921,1.0759,1.3099,1.3122,1.3334,1.0453,0.186,1.2091,1.0875,1.0335,0.9457,0.8638,0.8536,0.3044,0.1425,0.2021,0.7108,0.6357,0.861,0.6241,0.5963,0.5753,0.5573,0.5675,0.5212,0.9299,0.9149,0.8215,0.8274,0.7872,0.8099,0.5545,0.3387,1.083,0.3337,0.3329,0.34,0.3421,0.4643,0.7139,0.3413,0.3433,0.1882,0.5269,0.5266,0.35,0.3649,0.6144,0.3327,0.3392,0.0908,0.3321,0.4925,0.6308,0.5617,0.3297,0.3436,0.3143,0.3139,0.3459,0.3206,0.6073,0.2312,0.3097,0.31,0.3554,0.2922,0.6834,0.2755,0.3402,0.3032,0.2768,0.4589,0.7441,0.7639,0.8124,0.3992,0.3879,0.3908,0.3753,0.6872,0.4499,0.1024,0.6097,0.1113,0.297,0.3009,0.5371,0.432,0.1105,0.1006,0.293,0.3029,0.3405,0.3439,1.0598,0.1458,0.1284,0.1271,0.285,0.2684,0.1927,0.1111,0.3396,0.4291,0.3816,0.2456,0.0494\\nvariance,1.5974,0.9359,1.0226,0.4005,1.0612,0.3872,0.1636,1.3539,0.595,1.1926,1.1575,1.7159,1.7218,1.778,1.0926,0.0346,1.4618,1.1827,1.0681,0.8944,0.7461,0.7286,0.0927,0.0203,0.0409,0.5053,0.4041,0.7414,0.3895,0.3556,0.3309,0.3106,0.322,0.2716,0.8648,0.837,0.6749,0.6846,0.6197,0.6559,0.3075,0.1147,1.1728,0.1113,0.1108,0.1156,0.117,0.2156,0.5097,0.1165,0.1179,0.0354,0.2776,0.2773,0.1225,0.1331,0.3775,0.1107,0.115,8.2357E-3,0.1103,0.2425,0.3979,0.3155,0.1087,0.118,0.0988,0.0986,0.1197,0.1028,0.3688,0.0535,0.0959,0.0961,0.1263,0.0854,0.467,0.0759,0.1157,0.0919,0.0766,0.2106,0.5537,0.5836,0.66,0.1593,0.1505,0.1527,0.1409,0.4722,0.2024,0.0105,0.3717,0.0124,0.0882,0.0906,0.2884,0.1866,0.0122,0.0101,0.0858,0.0918,0.116,0.1182,1.1232,0.0213,0.0165,0.0161,0.0812,0.072,0.0371,0.0124,0.1154,0.1841,0.1456,0.0603,2.4451E-3\\nmedian,14.0569,12.7821,6.2132,1.9198,11.835,11.0001,6.994,9.8002,2.2586,7.1069,4.2198,13.5776,12.6019,12.2689,6.4647,0.4307,11.4344,6.6918,10.6005,9.8678,8.9047,8.6715,1.1239,0.3264,0.58,7.2283,6.5088,3.1177,5.8623,4.7756,3.1895,2.5771,3.3156,2.4564,9.5626,8.5544,7.3123,6.5437,6.7149,6.0163,1.8276,6.8833,4.8537,6.7716,5.7943,6.7386,6.6795,1.0974,6.098,6.6951,6.6504,0.4296,8.8914,8.7844,6.9808,6.7646,5.6232,6.8664,6.7466,0.2061,6.7502,5.5958,3.9614,2.4838,7.0272,6.805,6.8799,6.7763,5.9791,5.3655,3.7946,4.3284,6.7749,6.7045,6.2222,5.4207,1.994,5.2414,1.4529,1.1548,0.8856,7.7066,6.6458,6.417,5.7159,7.279,7.2095,7.0919,6.8237,4.4522,1.4812,0.2414,2.8976,0.2682,6.8836,6.8076,1.3132,6.4418,0.3548,0.2833,6.82,6.7179,6.5567,0.8177,3.2714,0.5797,0.4615,0.3992,6.5905,6.2479,5.4489,5.0013,5.3031,3.1305,2.1531,0.8771,0.1002\\nmode,n/a,n/a,n/a,n/a,n/a,n/a,n/a,n/a,n/a,n/a,n/a,n/a,n/a,n/a,n/a,n/a,n/a,n/a,n/a,n/a,n/a,n/a,n/a,n/a,n/a,n/a,n/a,n/a,n/a,n/a,n/a,n/a,n/a,n/a,n/a,n/a,n/a,n/a,n/a,n/a,n/a,n/a,n/a,n/a,n/a,n/a,n/a,n/a,n/a,n/a,n/a,n/a,n/a,n/a,n/a,n/a,n/a,n/a,n/a,n/a,n/a,n/a,n/a,n/a,n/a,n/a,n/a,n/a,n/a,n/a,n/a,n/a,n/a,n/a,n/a,n/a,n/a,n/a,n/a,n/a,n/a,n/a,n/a,n/a,n/a,n/a,n/a,n/a,n/a,n/a,n/a,n/a,n/a,n/a,n/a,n/a,n/a,n/a,n/a,n/a,n/a,n/a,n/a,n/a,n/a,n/a,n/a,n/a,n/a,n/a,n/a,n/a,n/a,n/a,n/a,n/a,n/a\\ngeometric mean,14.0756,12.7637,5.9218,1.9031,11.822,10.9599,7.0128,9.7871,2.2586,7.301,4.2144,13.579,12.6371,12.2901,6.3775,0.431,11.4827,6.6066,10.6501,9.9125,8.9397,8.7042,1.128,0.3247,0.5792,7.2752,6.4958,3.1176,5.8615,4.7287,3.1859,2.5704,3.313,2.4488,9.5998,8.5897,7.3636,6.4685,6.7137,6.006,1.8148,6.8794,4.3888,6.7639,5.8518,6.7277,6.6669,1.0987,5.9166,6.6832,6.6368,0.43,8.8892,8.7857,7.0031,6.7776,5.5977,6.886,6.7581,0.2052,6.7656,5.6101,3.9502,2.4604,7.0477,6.8126,6.8997,6.7922,5.9874,5.3853,3.7377,4.3824,6.7919,6.7221,6.229,5.4518,1.9656,5.2748,1.4491,1.153,0.8827,7.7252,6.4208,6.1757,5.5446,7.3087,7.2376,7.1197,6.846,4.4026,1.4787,0.2403,2.7991,0.2676,6.8928,6.818,1.3132,6.3902,0.3544,0.2828,6.8304,6.7226,6.541,0.8172,3.2694,0.5789,0.4609,0.3977,6.5974,6.2552,5.4631,5.0299,5.2883,3.1155,2.1407,0.8725,0.0995\\n95% HPD Interval,[12.9936, 14.8673],[11.8589, 13.4395],[3.7124, 7.6141],[0.8777, 3.2177],[10.7369, 12.7296],[9.7217, 12.1157],[6.3101, 7.727],[8.3159, 11.2405],[1.0428, 3.8505],[6.0328, 9.3498],[2.513, 6.3857],[12.209, 14.5936],[11.2856, 13.7793],[10.8204, 13.5467],[4.9002, 8.2394],[0.1662, 0.833],[10.2045, 12.7032],[4.888, 8.6356],[9.3442, 11.7274],[8.7188, 10.9499],[7.7737, 10.0544],[7.5281, 9.7973],[0.6053, 1.7381],[0.1273, 0.6375],[0.2742, 1.0225],[6.2456, 8.3595],[5.4633, 7.4875],[1.8132, 5.1607],[4.907, 6.893],[3.6917, 5.7168],[2.2086, 4.2817],[1.6439, 3.6587],[2.3081, 4.3775],[1.549, 3.4555],[8.4879, 10.6422],[7.4138, 9.6854],[6.3477, 8.3982],[5.1351, 7.4909],[5.6088, 7.7227],[4.9159, 7.1481],[0.8904, 2.9206],[6.1933, 7.5715],[2.3072, 6.1902],[6.0816, 7.4497],[5.4171, 6.494],[6.0521, 7.4338],[5.9799, 7.3663],[0.446, 2.1223],[4.9129, 7.1664],[5.9909, 7.3838],[5.9389, 7.3361],[0.1645, 0.8362],[7.9064, 9.9343],[7.7948, 9.8322],[6.3652, 7.7242],[6.1055, 7.5496],[4.4132, 6.8694],[6.264, 7.5594],[6.1297, 7.4619],[0.0755, 0.4021],[6.1695, 7.4686],[4.782, 6.6727],[2.8591, 5.2829],[1.431, 3.6203],[6.4682, 7.7406],[6.1486, 7.4905],[6.318, 7.5323],[6.2193, 7.4323],[5.3756, 6.6803],[4.8906, 6.1139],[2.6681, 5.0645],[4.1201, 4.8523],[6.2129, 7.4107],[6.1479, 7.3559],[5.5204, 6.8501],[4.9746, 6.0417],[0.9054, 3.4616],[4.9, 5.827],[0.8937, 2.1767],[0.6458, 1.785],[0.4471, 1.4838],[6.9143, 8.6988],[5.0228, 7.6438],[4.8146, 7.4965],[3.9732, 7.0335],[6.5854, 8.125],[6.5275, 8.0251],[6.4171, 7.9226],[6.1739, 7.6293],[3.1922, 5.6928],[0.7711, 2.4579],[0.0902, 0.4605],[1.7036, 4.0252],[0.1054, 0.5089],[6.3283, 7.4857],[6.2336, 7.4098],[0.5397, 2.5083],[5.4898, 7.2212],[0.179, 0.5908],[0.1269, 0.4959],[6.2991, 7.4373],[6.1513, 7.3291],[5.8866, 7.2171],[0.3258, 1.5741],[1.7251, 5.5137],[0.3275, 0.878],[0.254, 0.7381],[0.1956, 0.6722],[6.062, 7.1747],[5.7535, 6.8026],[5.1156, 5.8494],[4.9, 5.2583],[4.6066, 5.9683],[2.3207, 3.9897],[1.4784, 2.9635],[0.4722, 1.3959],[0.0316, 0.2075]\\nauto-correlation time (ACT),22.7626,11.0747,4.1284,1.8306,10.642,5.0326,3.7507,9.8204,5.1038,9.4895,6.8421,23.5466,25.6049,24.574,1.717,1.1874,28.0161,15.7581,30.4896,33.5831,35.6765,35.9428,1.0871,1.1292,1.1147,41.2797,43.0918,10.4786,42.1034,37.1648,25.0931,22.2701,27.6044,22.3946,32.5849,28.8087,28.4773,28.1765,26.4416,19.6393,2.5112,16.4457,2.896,18.3221,4.8451,19.2895,19.3281,1.1427,5.9945,19.4751,19.4,1.156,7.1704,7.1608,9.5144,8.2794,3.6465,10.1384,9.3,1.0643,9.9182,4.1888,3.0618,2.9686,10.0724,9.3574,10.6629,10.527,5.8867,5.1875,9.3081,1.883,10.7711,10.6368,6.0253,2.8467,1.3785,2.8123,1.6224,1.5263,1.5109,6.8531,4.7921,4.7176,4.1344,10.5666,10.8818,10.7863,9.0871,2.7716,1.2396,1.1195,3.3906,1.1272,11.4733,11.3319,1.1755,5.6797,1.2236,1.1805,11.398,10.2891,5.1921,1.1135,2.0234,1.3881,1.4202,1.4094,10.8087,9.5316,4.4588,1.8954,4.6719,4.015,2.8938,1.4924,1.2413\\neffective sample size (ESS),790.8577,1625.5114,4360.5774,9833.983,1691.5933,3577.0998,4799.6684,1833.1216,3527.185,1897.0506,2631.0817,764.5273,703.0688,732.5635,10484.2988,15160.6965,642.5596,1142.3969,590.4309,536.0441,504.5892,500.8508,16559.9741,15941.7637,16149.2628,436.0986,417.759,1717.9823,427.5661,484.3831,717.4095,808.3492,652.1434,803.8538,552.4637,624.8809,632.1528,638.9005,680.822,916.6331,7168.5867,1094.6308,6216.221,982.5318,3715.4689,933.2521,931.3924,15753.4291,3003.0875,924.3617,927.9401,15572.7433,2510.6103,2513.9789,1892.0847,2174.3217,4936.8393,1775.625,1935.6965,16914.7487,1815.0475,4297.6224,5879.5922,6064.0906,1787.2688,1923.8172,1688.2858,1710.0764,3058.1033,3470.2661,1934.0046,9560.2999,1671.3279,1692.4228,2987.7312,6323.8344,13059.0672,6401.1351,11095.9318,11794.4,11914.5575,2626.856,3756.5659,3815.9364,4354.1468,1703.663,1654.3263,1668.9633,1981.0445,6495.2519,14522.4013,16080.9016,5309.4623,15970.4862,1569.0286,1588.6191,15314.6481,3169.5321,14712.2399,15248.9256,1579.3969,1749.6146,3467.1903,16166.6186,8896.8771,12968.7537,12676.1167,12772.8696,1665.5147,1888.6585,4037.3948,9497.5892,3853.2347,4483.638,6220.9172,12062.471,14502.8618\\n'"
      ]
     },
     "execution_count": 39,
     "metadata": {},
     "output_type": "execute_result"
    }
   ],
   "source": [
    "tstring\n"
   ]
  },
  {
   "cell_type": "code",
   "execution_count": null,
   "metadata": {
    "collapsed": true
   },
   "outputs": [],
   "source": []
  }
 ],
 "metadata": {
  "kernelspec": {
   "display_name": "Python 2",
   "language": "python",
   "name": "python2"
  },
  "language_info": {
   "codemirror_mode": {
    "name": "ipython",
    "version": 2
   },
   "file_extension": ".py",
   "mimetype": "text/x-python",
   "name": "python",
   "nbconvert_exporter": "python",
   "pygments_lexer": "ipython2",
   "version": "2.7.10"
  }
 },
 "nbformat": 4,
 "nbformat_minor": 0
}
