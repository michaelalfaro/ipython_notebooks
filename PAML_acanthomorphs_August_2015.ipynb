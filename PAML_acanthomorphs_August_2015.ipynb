{
 "cells": [
  {
   "cell_type": "markdown",
   "metadata": {},
   "source": [
    "###processing the reduced set of calibrations (10) from Friedman for PAML analysis\n",
    "\n",
    "First we will read in a reduced set of calibrations from Matt (scheme 4). This following Matt's email:\n",
    ">\n",
    "Hi Mike et al.,\n",
    "\n",
    "Sure thing. Try this subset of 10--they are spread across the tree, and range from very deep to relatively shallow divergences.\n",
    "\n",
    "node 22\n",
    "\n",
    "node 10\n",
    "\n",
    "node 29\n",
    "\n",
    "node 11\n",
    "\n",
    "node 103\n",
    "\n",
    "node 137\n",
    "\n",
    "node 130\n",
    "\n",
    "node 179\n",
    "\n",
    "node 194\n",
    "\n",
    "node 222\n",
    "\n",
    "I'm off to China tomorrow to bother some Silurian fish, but should be in e-mail contact.\n",
    "\n",
    "Cheers,\n",
    "\n",
    "I am reading in these calibrations:\n",
    "\n",
    "```\n",
    "222,Calatomus,11.9,n/a,n/a,63.3,No,No,\"98, 93.9, 69.71, 55.2, 54.17, 11.19\"\n",
    "194,Tarkus,49,n/a,n/a,61.6,No,No,\"98, 93.9, 69.71, 55.2, 54.17, 50.5, 49\"\n",
    "179,tholichthys' larva,29.62,n/a,n/a,66,Yes*,No,\"98, 93.9, 69.71, 55.2, 54.17, 29.62\"\n",
    "137,Mene ,55.2,n/a,n/a,94.6,Yes*,No,\"98, 93.9, 69.71, 55.2\"\n",
    "130,\"Eobuglossus Turahbuglossus\",41.2,n/a,n/a,66.6,Yes*,No,\"98, 93.9, 69.71, 55.2, 49, 41.2\"\n",
    "103,Rhamphexocetus,49,130.8,100.89,79.7,Yes*,Yes,\"98, 93.9, 69.71, 55.2, 49\"\n",
    "29,\"Eoholocentrum, Berybolcensis, Tenuicentrum\",49,n/a,n/a,93.7,Yes* ,No,\"98, 93.9, 69.71, 49\"\n",
    "22,Aipichthys,98,158.3,136.03,143,No,Yes‡,98\n",
    "11,Homonotichthys,93.9,n/a,n/a,128,Yes*,No,\"98, 93.9\"\n",
    "10,Massamorichthys,58.551,n/a,n/a,109.6,Yes*,No,\"98, 93.9, 58.551\"\n",
    "```\n",
    "from 10_calibrations_bounds.csv "
   ]
  },
  {
   "cell_type": "code",
   "execution_count": null,
   "metadata": {
    "collapsed": true
   },
   "outputs": [],
   "source": [
    "###here all functions being called to make PAML files\n",
    "def annotatePaml(target_tree, scheme, raw = False):\n",
    "    # tree to use for annotations and a scheme dictionary with node numbers (matching tree) and lower/upper bounds as values\n",
    "    for calibration_node_number in scheme:\n",
    "        #print calibration_node_number\n",
    "        lower, upper = scheme[calibration_node_number]\n",
    "        print \"\\n in annotatePaml\"\n",
    "        print \"node is {} lower is {} upper is {}\\t\".format(calibration_node_number, lower, upper)\n",
    "\n",
    "        if str(lower) == \"nan\":\n",
    "            lower = None\n",
    "        if str(upper) == \"nan\":\n",
    "            upper = None\n",
    "        print \"\\n\", lower, upper\n",
    "        \n",
    "\n",
    "        calibration_text = addPamlCalibration(lower, upper) #get the calibration string\n",
    "        print \"calibration text is {}\".format(calibration_text)\n",
    "        target_calibration_node = target_tree.search_nodes(nodenumber = str(calibration_node_number))\n",
    "        print \"targ cali node is {} and text is {}\\n\".format(target_calibration_node[0].nodenumber, calibration_text)\n",
    "        target_calibration_node[0].add_features( paml_cal = str(calibration_text) )\n",
    "        if raw == True:\n",
    "            print \"raw is true\"\n",
    "            rawtxt = \"Lower:{} Upper:{}\".format(str(lower), str(upper))\n",
    "            print \"the raw txt is: {}\".format(rawtxt)\n",
    "            target_calibration_node[0].add_features( raw_cal = str(rawtxt) )\n",
    "            \n",
    "    calibration_tree_nhx = tt.write(features = ['nodenumber', \"raw_cal\", \"paml_cal\"], format = 9,format_root_node=True)\n",
    "    print calibration_tree_nhx\n",
    "    return makePamlTree(calibration_tree_nhx) #title of the tree?   "
   ]
  },
  {
   "cell_type": "code",
   "execution_count": 23,
   "metadata": {
    "collapsed": false
   },
   "outputs": [
    {
     "ename": "NameError",
     "evalue": "name 'tt' is not defined",
     "output_type": "error",
     "traceback": [
      "\u001b[0;31m---------------------------------------------------------------------------\u001b[0m",
      "\u001b[0;31mNameError\u001b[0m                                 Traceback (most recent call last)",
      "\u001b[0;32m<ipython-input-23-3ba2b6d686c7>\u001b[0m in \u001b[0;36m<module>\u001b[0;34m()\u001b[0m\n\u001b[1;32m     36\u001b[0m \u001b[0;32mfor\u001b[0m \u001b[0mscheme\u001b[0m \u001b[0;32min\u001b[0m \u001b[0mschemes\u001b[0m\u001b[0;34m:\u001b[0m\u001b[0;34m\u001b[0m\u001b[0m\n\u001b[1;32m     37\u001b[0m     \u001b[0;31m#this loop converts the names in the paml tree back to match the alignment\u001b[0m\u001b[0;34m\u001b[0m\u001b[0;34m\u001b[0m\u001b[0m\n\u001b[0;32m---> 38\u001b[0;31m     \u001b[0mpaml_tree_string\u001b[0m \u001b[0;34m=\u001b[0m \u001b[0mannotatePaml\u001b[0m\u001b[0;34m(\u001b[0m\u001b[0mtt\u001b[0m\u001b[0;34m,\u001b[0m \u001b[0mscheme\u001b[0m\u001b[0;34m)\u001b[0m\u001b[0;34m\u001b[0m\u001b[0m\n\u001b[0m\u001b[1;32m     39\u001b[0m     \u001b[0;32mprint\u001b[0m \u001b[0mpaml_tree_string\u001b[0m\u001b[0;34m\u001b[0m\u001b[0m\n\u001b[1;32m     40\u001b[0m     \u001b[0mt1\u001b[0m \u001b[0;34m=\u001b[0m \u001b[0mpaml_tree_string\u001b[0m\u001b[0;34m.\u001b[0m\u001b[0mlower\u001b[0m\u001b[0;34m(\u001b[0m\u001b[0;34m)\u001b[0m\u001b[0;34m.\u001b[0m\u001b[0mreplace\u001b[0m\u001b[0;34m(\u001b[0m\u001b[0;34m\" \"\u001b[0m\u001b[0;34m,\u001b[0m \u001b[0;34m\"_\"\u001b[0m\u001b[0;34m)\u001b[0m\u001b[0;34m\u001b[0m\u001b[0m\n",
      "\u001b[0;31mNameError\u001b[0m: name 'tt' is not defined"
     ]
    }
   ],
   "source": [
    "import os\n",
    "import glob\n",
    "import shutil\n",
    "import pandas as pd\n",
    "from ete2 import TextFace\n",
    "\n",
    "##Read in the calibrations file\n",
    "import pandas as pd\n",
    "import re as re\n",
    "\n",
    "\n",
    "\n",
    "infile = \"/Users/michael_alfaro/Dropbox/malfaro-acanthomorph/dating/Friedman_10_calibrations/10_calibration_bounds.csv\"\n",
    "writedir = \"/Users/michael_alfaro/Dropbox/malfaro-acanthomorph/dating/Friedman_10_calibrations/\"\n",
    "dd = pd.read_csv(infile, index_col=0, na_values=\"n/a\") #the nodes are the index in this dataframe\n",
    "pd.set_option('float_format', '{:20,.2f}'.format)\n",
    "scheme1, scheme2, scheme3 = {}, {}, {}#dictionaries to hold lower and upper bounds\n",
    "\n",
    "#populate the scheme dictionaries\n",
    "for cal_node in dd.index:\n",
    "    min_age = dd.loc[cal_node][1] \n",
    "    max_age_1 = dd.loc[cal_node][2]\n",
    "    max_age_2 = dd.loc[cal_node][3]\n",
    "    max_age_3 = dd.loc[cal_node][4]\n",
    "    \n",
    "    scheme1[cal_node] = [min_age, max_age_1]\n",
    "    scheme2[cal_node] = [min_age, max_age_2]\n",
    "    scheme3[cal_node] = [min_age, max_age_3]\n",
    "\n",
    "schemes = [scheme1, scheme2, scheme3]\n",
    "\n",
    "counter = 0           \n",
    "for scheme in schemes:\n",
    "    #this loop converts the names in the paml tree back to match the alignment\n",
    "    paml_tree_string = annotatePaml(tt, scheme)\n",
    "    print paml_tree_string\n",
    "    t1 = paml_tree_string.lower().replace(\" \", \"_\")\n",
    "    t2 = t1.replace(\"takifugu_ocellatus\",\"takifugu_occelatus\")\n",
    "    t3 = t2.replace(\"coruscum\",\"coruscum2\")\n",
    "    tree_title = \"scheme_{}.tre\".format(counter)\n",
    "    with open(writedir + tree_title, 'w') as the_file:\n",
    "        the_file.write(\"120 1 \\n\")\n",
    "        the_file.write(t3)\n",
    "        the_file.close()\n",
    "    counter +=1\n",
    "    J.title.add_face(TextFace(tree_title, fsize=20), column=0)\n",
    "    tt.render(writedir +\"labelled_pamlCalibrations_acanthomorphs_{}.pdf\".format(tree_title), tree_style=J, w=1200)\n"
   ]
  },
  {
   "cell_type": "code",
   "execution_count": 19,
   "metadata": {
    "collapsed": false
   },
   "outputs": [
    {
     "data": {
      "text/plain": [
       "Node\n",
       "222                   11.90\n",
       "194                   49.00\n",
       "179                   29.62\n",
       "137                   55.20\n",
       "130                   41.20\n",
       "103                   49.00\n",
       "29                    49.00\n",
       "22                    98.00\n",
       "11                    93.90\n",
       "10                    58.55\n",
       "Name: Minimum, dtype: float64"
      ]
     },
     "execution_count": 19,
     "metadata": {},
     "output_type": "execute_result"
    }
   ],
   "source": [
    "dd.Minimum"
   ]
  },
  {
   "cell_type": "code",
   "execution_count": null,
   "metadata": {
    "collapsed": true
   },
   "outputs": [],
   "source": []
  },
  {
   "cell_type": "code",
   "execution_count": 20,
   "metadata": {
    "collapsed": true
   },
   "outputs": [],
   "source": [
    "infile = \"/Users/michael_alfaro/Dropbox/malfaro-acanthomorph/dating/calibration_bounds.csv\"\n",
    "writedir = \"/Users/michael_alfaro/Dropbox/malfaro-acanthomorph/dating/\"\n",
    "dd = pd.read_csv(infile, index_col=0, na_values=\"n/a\") #the nodes are the index in this dataframe\n",
    "pd.set_option('float_format', '{:20,.2f}'.format)\n",
    "scheme1, scheme2, scheme3 = {}, {}, {} #dictionaries to hold lower and upper bounds"
   ]
  },
  {
   "cell_type": "code",
   "execution_count": 21,
   "metadata": {
    "collapsed": false
   },
   "outputs": [
    {
     "data": {
      "text/plain": [
       "Node\n",
       "238                  125.00\n",
       "235                   93.90\n",
       "222                   11.90\n",
       "206                   50.50\n",
       "205                   32.02\n",
       "194                   49.00\n",
       "189                   54.17\n",
       "188                   49.00\n",
       "179                   29.62\n",
       "151                   54.17\n",
       "150                   49.00\n",
       "137                   55.20\n",
       "132                   49.00\n",
       "130                   41.20\n",
       "122                   49.00\n",
       "103                   49.00\n",
       "102                   45.46\n",
       "74                    69.71\n",
       "66                    49.00\n",
       "80                    54.17\n",
       "29                    49.00\n",
       "22                    98.00\n",
       "20                    69.71\n",
       "18                    53.70\n",
       "14                    32.02\n",
       "11                    93.90\n",
       "10                    58.55\n",
       "6                     54.17\n",
       "5                      5.33\n",
       "Name: Minimum, dtype: float64"
      ]
     },
     "execution_count": 21,
     "metadata": {},
     "output_type": "execute_result"
    }
   ],
   "source": [
    "dd.Minimum"
   ]
  },
  {
   "cell_type": "markdown",
   "metadata": {
    "collapsed": true
   },
   "source": [
    "## November 18\n",
    "repeating the analysis with a partitioned file based on parsimony sites\n"
   ]
  },
  {
   "cell_type": "code",
   "execution_count": null,
   "metadata": {
    "collapsed": true
   },
   "outputs": [],
   "source": []
  }
 ],
 "metadata": {
  "kernelspec": {
   "display_name": "Python 2",
   "language": "python",
   "name": "python2"
  },
  "language_info": {
   "codemirror_mode": {
    "name": "ipython",
    "version": 2
   },
   "file_extension": ".py",
   "mimetype": "text/x-python",
   "name": "python",
   "nbconvert_exporter": "python",
   "pygments_lexer": "ipython2",
   "version": "2.7.10"
  }
 },
 "nbformat": 4,
 "nbformat_minor": 0
}
